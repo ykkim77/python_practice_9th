{
  "cells": [
    {
      "cell_type": "markdown",
      "metadata": {
        "colab_type": "text",
        "id": "view-in-github"
      },
      "source": [
        "<a href=\"https://colab.research.google.com/github/ykkim77/python-13th-week/blob/main/python_13th_week.ipynb\" target=\"_parent\"><img src=\"https://colab.research.google.com/assets/colab-badge.svg\" alt=\"Open In Colab\"/></a>"
      ]
    },
    {
      "cell_type": "markdown",
      "metadata": {
        "id": "_17Zhg4BXgzQ"
      },
      "source": [
        "# 이진 트리"
      ]
    },
    {
      "cell_type": "markdown",
      "metadata": {
        "id": "Q_jsQatEZHj0"
      },
      "source": [
        "## 이진트리 핵심 코드 구현"
      ]
    },
    {
      "cell_type": "markdown",
      "metadata": {},
      "source": [
        "- 이진트리 정의"
      ]
    },
    {
      "cell_type": "code",
      "execution_count": 64,
      "metadata": {
        "id": "gJHLDQa3Xat-"
      },
      "outputs": [],
      "source": [
        "class TreeNode() :\n",
        "    def __init__ (self) :\n",
        "        self.left = None\n",
        "        self.data = None\n",
        "        self.right = None"
      ]
    },
    {
      "cell_type": "markdown",
      "metadata": {
        "id": "3KOQIqLRZaed"
      },
      "source": [
        "- 높이가 2이고 데이터가 6개인 완전 이진 트리"
      ]
    },
    {
      "cell_type": "markdown",
      "metadata": {},
      "source": [
        "![binarytree](./images/binarytree.jpg)"
      ]
    },
    {
      "cell_type": "code",
      "execution_count": 32,
      "metadata": {
        "id": "lDjoQ5CQZcKM"
      },
      "outputs": [],
      "source": [
        "node1 = TreeNode()\n",
        "node1.data = 'a'"
      ]
    },
    {
      "cell_type": "code",
      "execution_count": 33,
      "metadata": {
        "id": "lDjoQ5CQZcKM"
      },
      "outputs": [],
      "source": [
        "node2 = TreeNode()\n",
        "node2.data = 'b'\n",
        "node1.left = node2"
      ]
    },
    {
      "cell_type": "code",
      "execution_count": 34,
      "metadata": {
        "id": "lDjoQ5CQZcKM"
      },
      "outputs": [],
      "source": [
        "node3 = TreeNode()\n",
        "node3.data = 'c'\n",
        "node1.right = node3"
      ]
    },
    {
      "cell_type": "code",
      "execution_count": 35,
      "metadata": {},
      "outputs": [],
      "source": [
        "node4 = TreeNode()\n",
        "node4.data = 'd'\n",
        "node2.left = node4"
      ]
    },
    {
      "cell_type": "code",
      "execution_count": 36,
      "metadata": {},
      "outputs": [],
      "source": [
        "node5 = TreeNode()\n",
        "node5.data = 'e'\n",
        "node2.right = node5"
      ]
    },
    {
      "cell_type": "code",
      "execution_count": 37,
      "metadata": {},
      "outputs": [],
      "source": [
        "node6 = TreeNode()\n",
        "node6.data = 'f'\n",
        "node3.left = node6"
      ]
    },
    {
      "cell_type": "markdown",
      "metadata": {},
      "source": [
        "- 이진 트리 출력"
      ]
    },
    {
      "cell_type": "code",
      "execution_count": 38,
      "metadata": {},
      "outputs": [
        {
          "name": "stdout",
          "output_type": "stream",
          "text": [
            "a \n",
            "b c \n",
            "d e f "
          ]
        }
      ],
      "source": [
        "print(node1.data, end = ' ')\n",
        "print()\n",
        "print(node1.left.data,  node1.right.data, end = ' ')\n",
        "print()\n",
        "print(node1.left.left.data, node1.left.right.data, node1.right.left.data, end = ' ')"
      ]
    },
    {
      "cell_type": "code",
      "execution_count": 40,
      "metadata": {},
      "outputs": [],
      "source": [
        "node7 = TreeNode()\n",
        "node7.data = 'g'\n",
        "node3.right = node7"
      ]
    },
    {
      "cell_type": "markdown",
      "metadata": {},
      "source": [
        "## 순회"
      ]
    },
    {
      "cell_type": "markdown",
      "metadata": {},
      "source": [
        "### 재귀 함수를 이용한 순회 구현\n",
        "\n",
        "![factorial2](./images/factorial2.jpg)"
      ]
    },
    {
      "cell_type": "code",
      "execution_count": 27,
      "metadata": {},
      "outputs": [
        {
          "name": "stdout",
          "output_type": "stream",
          "text": [
            "6\n"
          ]
        }
      ],
      "source": [
        "def factorial(n):\n",
        "    if n == 1:\n",
        "        return 1\n",
        "    else:\n",
        "        return n * factorial (n-1)\n",
        "\n",
        "\n",
        "print(factorial(3))"
      ]
    },
    {
      "cell_type": "markdown",
      "metadata": {},
      "source": [
        "- 전위 순회"
      ]
    },
    {
      "cell_type": "markdown",
      "metadata": {},
      "source": [
        "![preorder](./images/preorder.jpg)"
      ]
    },
    {
      "cell_type": "code",
      "execution_count": 41,
      "metadata": {},
      "outputs": [
        {
          "name": "stdout",
          "output_type": "stream",
          "text": [
            "a->b->d->e->c->f->g->"
          ]
        }
      ],
      "source": [
        "def preorder(node):\n",
        "    if node == None:\n",
        "        return\n",
        "    print(node.data, end = '->')\n",
        "    preorder(node.left)\n",
        "    preorder(node.right)\n",
        "\n",
        "preorder(node1)\n"
      ]
    },
    {
      "cell_type": "markdown",
      "metadata": {},
      "source": [
        "- 중위 순회 구현"
      ]
    },
    {
      "cell_type": "markdown",
      "metadata": {},
      "source": [
        "![inorder](./images/inorder.jpg)"
      ]
    },
    {
      "cell_type": "code",
      "execution_count": 43,
      "metadata": {},
      "outputs": [
        {
          "name": "stdout",
          "output_type": "stream",
          "text": [
            "d->b->e->a->f->c->g->"
          ]
        }
      ],
      "source": [
        "def inorder(node):\n",
        "    if node == None:\n",
        "        return\n",
        "    inorder(node.left)\n",
        "    print(node.data, end = '->')\n",
        "    inorder(node.right)\n",
        "\n",
        "inorder(node1)"
      ]
    },
    {
      "cell_type": "markdown",
      "metadata": {},
      "source": [
        "- 후위 순회 구현"
      ]
    },
    {
      "cell_type": "markdown",
      "metadata": {},
      "source": [
        "![postorder](./images/postorder.jpg)"
      ]
    },
    {
      "cell_type": "code",
      "execution_count": 44,
      "metadata": {},
      "outputs": [
        {
          "name": "stdout",
          "output_type": "stream",
          "text": [
            "d->b->e->a->f->c->g->"
          ]
        }
      ],
      "source": [
        "def postorder(node):\n",
        "    if node == None:\n",
        "        return\n",
        "\n",
        "    postorder(node.left)\n",
        "    print(node.data, end = '->')\n",
        "    postorder(node.right)\n",
        "\n",
        "postorder(node1)"
      ]
    },
    {
      "cell_type": "markdown",
      "metadata": {},
      "source": [
        "## 이진 탐색 트리 구현"
      ]
    },
    {
      "cell_type": "markdown",
      "metadata": {},
      "source": [
        "- 데이터 준비"
      ]
    },
    {
      "cell_type": "code",
      "execution_count": 216,
      "metadata": {},
      "outputs": [],
      "source": [
        "memory = []\n",
        "root = None\n",
        "dataAry = [8,3,10,1,6,14,4,7]"
      ]
    },
    {
      "cell_type": "markdown",
      "metadata": {},
      "source": [
        "- 이진 탐색 트리 생성 구현"
      ]
    },
    {
      "cell_type": "code",
      "execution_count": 217,
      "metadata": {},
      "outputs": [],
      "source": [
        "node = TreeNode()\n",
        "node.data = dataAry[0]\n",
        "root = node\n",
        "memory.append(node)"
      ]
    },
    {
      "cell_type": "markdown",
      "metadata": {},
      "source": [
        "![binarysearch2](./images/binarysearch2.jpg)"
      ]
    },
    {
      "cell_type": "code",
      "execution_count": 218,
      "metadata": {},
      "outputs": [
        {
          "name": "stdout",
          "output_type": "stream",
          "text": [
            "8->3->\n",
            "8->3->10->\n",
            "8->3->1->10->\n",
            "8->3->1->6->10->\n",
            "8->3->1->6->10->14->\n",
            "8->3->1->6->4->10->14->\n",
            "8->3->1->6->4->7->10->14->\n"
          ]
        }
      ],
      "source": [
        "for data in dataAry[1:] :\n",
        "\n",
        "\tnode = TreeNode()\n",
        "\tnode.data = data\n",
        "\n",
        "\tcurrent = root\n",
        "\twhile True :\n",
        "\t\tif data < current.data :      # 삽입할 데이터의 크기가 트리의 current 보다 작을때\n",
        "\t\t\tif current.left == None :   # 왼쪽 자식 노드가 비어 있는 경우\n",
        "\t\t\t\tcurrent.left = node    # 왼쪽에 삽입\n",
        "\t\t\t\tbreak\n",
        "\t\t\tcurrent = current.left    # 왼쪽 서브트리로 진입\n",
        "\t\telse :                        # 삽입할 데이터의 크기가 트리의 current 보다 클때\n",
        "\t\t\tif current.right == None :\n",
        "\t\t\t\tcurrent.right = node # 오른쪽에 삽입\n",
        "\t\t\t\tbreak\n",
        "\t\t\tcurrent = current.right  # 오른쪽 서브 트리로 진입\n",
        "\n",
        "\tmemory.append(node)\n",
        "\tpreorder(root)\n",
        "\tprint()"
      ]
    },
    {
      "cell_type": "code",
      "execution_count": 219,
      "metadata": {},
      "outputs": [
        {
          "name": "stdout",
          "output_type": "stream",
          "text": [
            "8->3->1->6->4->7->10->14->"
          ]
        }
      ],
      "source": [
        "preorder(root)"
      ]
    },
    {
      "cell_type": "markdown",
      "metadata": {},
      "source": [
        "- 이진 탐색 트리 탐색 구현"
      ]
    },
    {
      "cell_type": "code",
      "execution_count": 220,
      "metadata": {},
      "outputs": [
        {
          "name": "stdout",
          "output_type": "stream",
          "text": [
            "11 이(가) 트리에 없음\n"
          ]
        }
      ],
      "source": [
        "findData = 11\n",
        "\n",
        "current = root\n",
        "while True :\n",
        "\tif findData == current.data:\n",
        "\t\tprint(findData, '을(를) 찾음.')\n",
        "\t\tbreak\n",
        "\telif findData < current.data :\n",
        "\t\tif current.left == None :\n",
        "\t\t\tprint(findData, '이(가) 트리에 없음')\n",
        "\t\t\tbreak\n",
        "\t\tcurrent = current.left\n",
        "\telse :\n",
        "\t\tif current.right == None :\n",
        "\t\t\tprint(findData, '이(가) 트리에 없음')\n",
        "\t\t\tbreak\n",
        "\t\tcurrent = current.right"
      ]
    },
    {
      "cell_type": "markdown",
      "metadata": {},
      "source": [
        "- 이진 탐색 트리 삭제 구현"
      ]
    },
    {
      "cell_type": "code",
      "execution_count": 221,
      "metadata": {},
      "outputs": [],
      "source": [
        "\n",
        "def minValueNode(node):\n",
        "\tcurrent = node\n",
        "\twhile(current.left is not None):\n",
        "\t\tcurrent = current.left\n",
        "\tprint(\"Minvalue --->\", current.data)\n",
        "\treturn current"
      ]
    },
    {
      "cell_type": "code",
      "execution_count": 223,
      "metadata": {},
      "outputs": [],
      "source": [
        "def deleteNode(current, deleteData):\n",
        "\twhile True:\n",
        "\t\tif deleteData == current.data :  # 삭제할 데이터를 찾은 경우\n",
        "\t\t\t\n",
        "\t\t\tif current.left == None and current.right == None : # Leaf 노드 삭제\n",
        "\t\t\t\tif parent.left == current :   # 삭제할 노드가 부모 노드의 왼쪽에 위치한 경우\n",
        "\t\t\t\t\tparent.left = None\n",
        "\t\t\t\telse :\n",
        "\t\t\t\t\tparent.right = None    # 삭제할 노드가 부모 노드의 오른쪽에 위치한 경우\n",
        "\t\t\t\tdel(current)\n",
        "\n",
        "\n",
        "\t\t\telif current.left == None and current.right != None :  # 삭제할 노드의 오르쪽에 자식 노드가 있는 경우\n",
        "\t\t\t\tif parent.left == current:\n",
        "\t\t\t\t\tparent.left = current.right\n",
        "\t\t\t\telse:\n",
        "\t\t\t\t\tparent.right = current.right\n",
        "\t\t\t\tdel(current)\n",
        "\t\t\t\t\n",
        "\t\t\telif current.left != None and current.right == None : # 삭제할 노드의 왼쪽에 자식 노드가 있는 경우\n",
        "\t\t\t\tif parent.left == current :\n",
        "\t\t\t\t\tparent.left = current.left\n",
        "\t\t\t\telse :\n",
        "\t\t\t\t\tparent.right = current.left\n",
        "\t\t\t\tdel(current)\n",
        "\n",
        "\t\t\telif current.left != None and current.right != None:       # 삭제할 노드의 자식 노드가 2개인 경우\n",
        "\t\t\t\t\n",
        "\t\t\t\ttemp = minValueNode(current.right)    # 삭제할 노드의 오른쪽 서브트리에서 가장 작은 값을 탐색: inorder successor\n",
        "\n",
        "\t\t\t\t\n",
        "\t\t\t\tdeleteNode(current, temp.data)\n",
        "\t\t\t\tcurrent.data = temp.data    # 삭제할 노드의 값을 temp 값으로 대체\n",
        "\n",
        "\n",
        "\t\t\tprint(deleteData, '이(가) 삭제됨.')\n",
        "\t\t\tbreak\n",
        "\t\telif deleteData < current.data :   # 삭제할 데이터가 currnet 보다 작은 경우\n",
        "\t\t\t\n",
        "\t\t\tif current.left == None :\n",
        "\t\t\t\tprint(deleteData, '이(가) 트리에 없음')\n",
        "\t\t\t\tbreak\n",
        "\t\t\tparent = current\n",
        "\t\t\tprint(\"parentData --->\", parent.data)\n",
        "\t\t\tcurrent = current.left\n",
        "\t\telse:\n",
        "\t\t\tif current.right == None :\n",
        "\t\t\t\tprint(deleteData, '이(가) 트리에 없음')\n",
        "\t\t\t\tbreak\n",
        "\t\t\tparent = current\n",
        "\t\t\tprint(\"parentData --->\", parent.data)\n",
        "\t\t\tcurrent = current.right"
      ]
    },
    {
      "cell_type": "code",
      "execution_count": 224,
      "metadata": {},
      "outputs": [
        {
          "name": "stdout",
          "output_type": "stream",
          "text": [
            "8->3->1->6->4->7->10->14->parentData ---> 8\n",
            "parentData ---> 3\n",
            "삭제할 데이터!!! 6\n",
            "삭제할노드  6 자식노드가 2개다\n",
            "Minvalue ---> 7\n",
            "삭제할 노드!!!!! ------------> 7\n",
            "parentData ---> 6\n",
            "삭제할 데이터!!! 7\n",
            "7 이(가) 삭제됨.\n",
            "6 이(가) 삭제됨.\n"
          ]
        }
      ],
      "source": [
        "root = memory[0]\n",
        "preorder(root)\n",
        "deleteNode(root,6)"
      ]
    },
    {
      "cell_type": "code",
      "execution_count": 225,
      "metadata": {},
      "outputs": [
        {
          "name": "stdout",
          "output_type": "stream",
          "text": [
            "8->3->1->7->4->10->14->"
          ]
        }
      ],
      "source": [
        "preorder(root)"
      ]
    },
    {
      "cell_type": "code",
      "execution_count": 226,
      "metadata": {},
      "outputs": [
        {
          "name": "stdout",
          "output_type": "stream",
          "text": [
            "parentData ---> 8\n",
            "parentData ---> 10\n",
            "삭제할 데이터!!! 14\n",
            "14 이(가) 삭제됨.\n",
            "8->3->1->7->4->10->"
          ]
        }
      ],
      "source": [
        "deleteNode(root,14)\n",
        "preorder(root)"
      ]
    }
  ],
  "metadata": {
    "colab": {
      "authorship_tag": "ABX9TyNfYEYHL4wCNbBmxfR+rFfd",
      "collapsed_sections": [],
      "include_colab_link": true,
      "name": "python-13th-week.ipynb",
      "provenance": []
    },
    "kernelspec": {
      "display_name": "Python 3",
      "name": "python3"
    },
    "language_info": {
      "codemirror_mode": {
        "name": "ipython",
        "version": 3
      },
      "file_extension": ".py",
      "mimetype": "text/x-python",
      "name": "python",
      "nbconvert_exporter": "python",
      "pygments_lexer": "ipython3",
      "version": "3.9.4"
    }
  },
  "nbformat": 4,
  "nbformat_minor": 0
}
